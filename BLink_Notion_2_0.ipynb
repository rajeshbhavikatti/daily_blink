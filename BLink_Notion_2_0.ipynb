{
  "nbformat": 4,
  "nbformat_minor": 0,
  "metadata": {
    "colab": {
      "provenance": [],
      "authorship_tag": "ABX9TyMijRaKH8/uc4P6AanQBrth",
      "include_colab_link": true
    },
    "kernelspec": {
      "name": "python3",
      "display_name": "Python 3"
    },
    "language_info": {
      "name": "python"
    },
    "widgets": {
      "application/vnd.jupyter.widget-state+json": {
        "ed05578c602e4903b7e66199674b9d8a": {
          "model_module": "@jupyter-widgets/output",
          "model_name": "OutputModel",
          "model_module_version": "1.0.0",
          "state": {
            "_dom_classes": [],
            "_model_module": "@jupyter-widgets/output",
            "_model_module_version": "1.0.0",
            "_model_name": "OutputModel",
            "_view_count": null,
            "_view_module": "@jupyter-widgets/output",
            "_view_module_version": "1.0.0",
            "_view_name": "OutputView",
            "layout": "IPY_MODEL_bfae8f3e5d5842beb4dc260714ea12b4",
            "msg_id": "",
            "outputs": [
              {
                "output_type": "display_data",
                "data": {
                  "text/plain": "\u001b[32m⠋\u001b[0m Retrieving free daily in en…\n",
                  "text/html": "<pre style=\"white-space:pre;overflow-x:auto;line-height:normal;font-family:Menlo,'DejaVu Sans Mono',consolas,'Courier New',monospace\"><span style=\"color: #008000; text-decoration-color: #008000\">⠋</span> Retrieving free daily in en…\n</pre>\n"
                },
                "metadata": {}
              }
            ]
          }
        },
        "bfae8f3e5d5842beb4dc260714ea12b4": {
          "model_module": "@jupyter-widgets/base",
          "model_name": "LayoutModel",
          "model_module_version": "1.2.0",
          "state": {
            "_model_module": "@jupyter-widgets/base",
            "_model_module_version": "1.2.0",
            "_model_name": "LayoutModel",
            "_view_count": null,
            "_view_module": "@jupyter-widgets/base",
            "_view_module_version": "1.2.0",
            "_view_name": "LayoutView",
            "align_content": null,
            "align_items": null,
            "align_self": null,
            "border": null,
            "bottom": null,
            "display": null,
            "flex": null,
            "flex_flow": null,
            "grid_area": null,
            "grid_auto_columns": null,
            "grid_auto_flow": null,
            "grid_auto_rows": null,
            "grid_column": null,
            "grid_gap": null,
            "grid_row": null,
            "grid_template_areas": null,
            "grid_template_columns": null,
            "grid_template_rows": null,
            "height": null,
            "justify_content": null,
            "justify_items": null,
            "left": null,
            "margin": null,
            "max_height": null,
            "max_width": null,
            "min_height": null,
            "min_width": null,
            "object_fit": null,
            "object_position": null,
            "order": null,
            "overflow": null,
            "overflow_x": null,
            "overflow_y": null,
            "padding": null,
            "right": null,
            "top": null,
            "visibility": null,
            "width": null
          }
        },
        "5d78a1179d284f4587de43f382f60700": {
          "model_module": "@jupyter-widgets/output",
          "model_name": "OutputModel",
          "model_module_version": "1.0.0",
          "state": {
            "_dom_classes": [],
            "_model_module": "@jupyter-widgets/output",
            "_model_module_version": "1.0.0",
            "_model_name": "OutputModel",
            "_view_count": null,
            "_view_module": "@jupyter-widgets/output",
            "_view_module_version": "1.0.0",
            "_view_name": "OutputView",
            "layout": "IPY_MODEL_31f638cc1ffc4249b9dd82d841a3c53b",
            "msg_id": "",
            "outputs": [
              {
                "output_type": "display_data",
                "data": {
                  "text/plain": "\u001b[32m⠋\u001b[0m Retrieving chapters of Ultralearning…\n",
                  "text/html": "<pre style=\"white-space:pre;overflow-x:auto;line-height:normal;font-family:Menlo,'DejaVu Sans Mono',consolas,'Courier New',monospace\"><span style=\"color: #008000; text-decoration-color: #008000\">⠋</span> Retrieving chapters of Ultralearning…\n</pre>\n"
                },
                "metadata": {}
              }
            ]
          }
        },
        "31f638cc1ffc4249b9dd82d841a3c53b": {
          "model_module": "@jupyter-widgets/base",
          "model_name": "LayoutModel",
          "model_module_version": "1.2.0",
          "state": {
            "_model_module": "@jupyter-widgets/base",
            "_model_module_version": "1.2.0",
            "_model_name": "LayoutModel",
            "_view_count": null,
            "_view_module": "@jupyter-widgets/base",
            "_view_module_version": "1.2.0",
            "_view_name": "LayoutView",
            "align_content": null,
            "align_items": null,
            "align_self": null,
            "border": null,
            "bottom": null,
            "display": null,
            "flex": null,
            "flex_flow": null,
            "grid_area": null,
            "grid_auto_columns": null,
            "grid_auto_flow": null,
            "grid_auto_rows": null,
            "grid_column": null,
            "grid_gap": null,
            "grid_row": null,
            "grid_template_areas": null,
            "grid_template_columns": null,
            "grid_template_rows": null,
            "height": null,
            "justify_content": null,
            "justify_items": null,
            "left": null,
            "margin": null,
            "max_height": null,
            "max_width": null,
            "min_height": null,
            "min_width": null,
            "object_fit": null,
            "object_position": null,
            "order": null,
            "overflow": null,
            "overflow_x": null,
            "overflow_y": null,
            "padding": null,
            "right": null,
            "top": null,
            "visibility": null,
            "width": null
          }
        },
        "6b025dedd8a14944af13012e5896596c": {
          "model_module": "@jupyter-widgets/output",
          "model_name": "OutputModel",
          "model_module_version": "1.0.0",
          "state": {
            "_dom_classes": [],
            "_model_module": "@jupyter-widgets/output",
            "_model_module_version": "1.0.0",
            "_model_name": "OutputModel",
            "_view_count": null,
            "_view_module": "@jupyter-widgets/output",
            "_view_module_version": "1.0.0",
            "_view_name": "OutputView",
            "layout": "IPY_MODEL_ecfaff7f7f4b494e83016acf792e9009",
            "msg_id": "",
            "outputs": [
              {
                "output_type": "display_data",
                "data": {
                  "text/plain": "Fetching chapters… \u001b[38;2;114;156;31m━━━━━━━━━━━━━━━━━━━━━━━━━━━━━━━━━━━━━━━━\u001b[0m \u001b[35m100%\u001b[0m \u001b[36m0:00:00\u001b[0m\n",
                  "text/html": "<pre style=\"white-space:pre;overflow-x:auto;line-height:normal;font-family:Menlo,'DejaVu Sans Mono',consolas,'Courier New',monospace\">Fetching chapters… <span style=\"color: #729c1f; text-decoration-color: #729c1f\">━━━━━━━━━━━━━━━━━━━━━━━━━━━━━━━━━━━━━━━━</span> <span style=\"color: #800080; text-decoration-color: #800080\">100%</span> <span style=\"color: #008080; text-decoration-color: #008080\">0:00:00</span>\n</pre>\n"
                },
                "metadata": {}
              }
            ]
          }
        },
        "ecfaff7f7f4b494e83016acf792e9009": {
          "model_module": "@jupyter-widgets/base",
          "model_name": "LayoutModel",
          "model_module_version": "1.2.0",
          "state": {
            "_model_module": "@jupyter-widgets/base",
            "_model_module_version": "1.2.0",
            "_model_name": "LayoutModel",
            "_view_count": null,
            "_view_module": "@jupyter-widgets/base",
            "_view_module_version": "1.2.0",
            "_view_name": "LayoutView",
            "align_content": null,
            "align_items": null,
            "align_self": null,
            "border": null,
            "bottom": null,
            "display": null,
            "flex": null,
            "flex_flow": null,
            "grid_area": null,
            "grid_auto_columns": null,
            "grid_auto_flow": null,
            "grid_auto_rows": null,
            "grid_column": null,
            "grid_gap": null,
            "grid_row": null,
            "grid_template_areas": null,
            "grid_template_columns": null,
            "grid_template_rows": null,
            "height": null,
            "justify_content": null,
            "justify_items": null,
            "left": null,
            "margin": null,
            "max_height": null,
            "max_width": null,
            "min_height": null,
            "min_width": null,
            "object_fit": null,
            "object_position": null,
            "order": null,
            "overflow": null,
            "overflow_x": null,
            "overflow_y": null,
            "padding": null,
            "right": null,
            "top": null,
            "visibility": null,
            "width": null
          }
        }
      }
    }
  },
  "cells": [
    {
      "cell_type": "markdown",
      "metadata": {
        "id": "view-in-github",
        "colab_type": "text"
      },
      "source": [
        "<a href=\"https://colab.research.google.com/github/rajeshbhavikatti/daily_blink/blob/main/BLink_Notion_2_0.ipynb\" target=\"_parent\"><img src=\"https://colab.research.google.com/assets/colab-badge.svg\" alt=\"Open In Colab\"/></a>"
      ]
    },
    {
      "cell_type": "markdown",
      "source": [
        "#full project"
      ],
      "metadata": {
        "id": "9rN0JLvqe26-"
      }
    },
    {
      "cell_type": "markdown",
      "source": [
        "### Initial Install of python modules and packages"
      ],
      "metadata": {
        "id": "FCCz_SiGJJju"
      }
    },
    {
      "cell_type": "code",
      "execution_count": 59,
      "metadata": {
        "colab": {
          "base_uri": "https://localhost:8080/"
        },
        "id": "SqXF8apnI5uW",
        "outputId": "7d23732c-990a-45a4-f5c7-46d696410040"
      },
      "outputs": [
        {
          "output_type": "stream",
          "name": "stdout",
          "text": [
            "Looking in indexes: https://pypi.org/simple, https://us-python.pkg.dev/colab-wheels/public/simple/\n",
            "Requirement already satisfied: cloudscraper in /usr/local/lib/python3.7/dist-packages (1.2.64)\n",
            "Requirement already satisfied: requests>=2.9.2 in /usr/local/lib/python3.7/dist-packages (from cloudscraper) (2.23.0)\n",
            "Requirement already satisfied: pyparsing>=2.4.7 in /usr/local/lib/python3.7/dist-packages (from cloudscraper) (3.0.9)\n",
            "Requirement already satisfied: requests-toolbelt>=0.9.1 in /usr/local/lib/python3.7/dist-packages (from cloudscraper) (0.9.1)\n",
            "Requirement already satisfied: urllib3!=1.25.0,!=1.25.1,<1.26,>=1.21.1 in /usr/local/lib/python3.7/dist-packages (from requests>=2.9.2->cloudscraper) (1.24.3)\n",
            "Requirement already satisfied: idna<3,>=2.5 in /usr/local/lib/python3.7/dist-packages (from requests>=2.9.2->cloudscraper) (2.10)\n",
            "Requirement already satisfied: chardet<4,>=3.0.2 in /usr/local/lib/python3.7/dist-packages (from requests>=2.9.2->cloudscraper) (3.0.4)\n",
            "Requirement already satisfied: certifi>=2017.4.17 in /usr/local/lib/python3.7/dist-packages (from requests>=2.9.2->cloudscraper) (2022.6.15)\n",
            "Looking in indexes: https://pypi.org/simple, https://us-python.pkg.dev/colab-wheels/public/simple/\n",
            "Requirement already satisfied: rich in /usr/local/lib/python3.7/dist-packages (12.6.0)\n",
            "Requirement already satisfied: commonmark<0.10.0,>=0.9.0 in /usr/local/lib/python3.7/dist-packages (from rich) (0.9.1)\n",
            "Requirement already satisfied: typing-extensions<5.0,>=4.0.0 in /usr/local/lib/python3.7/dist-packages (from rich) (4.1.1)\n",
            "Requirement already satisfied: pygments<3.0.0,>=2.6.0 in /usr/local/lib/python3.7/dist-packages (from rich) (2.6.1)\n",
            "Looking in indexes: https://pypi.org/simple, https://us-python.pkg.dev/colab-wheels/public/simple/\n",
            "Requirement already satisfied: tomd in /usr/local/lib/python3.7/dist-packages (0.1.3)\n",
            "Looking in indexes: https://pypi.org/simple, https://us-python.pkg.dev/colab-wheels/public/simple/\n",
            "Requirement already satisfied: requests in /usr/local/lib/python3.7/dist-packages (2.23.0)\n",
            "Requirement already satisfied: urllib3!=1.25.0,!=1.25.1,<1.26,>=1.21.1 in /usr/local/lib/python3.7/dist-packages (from requests) (1.24.3)\n",
            "Requirement already satisfied: chardet<4,>=3.0.2 in /usr/local/lib/python3.7/dist-packages (from requests) (3.0.4)\n",
            "Requirement already satisfied: idna<3,>=2.5 in /usr/local/lib/python3.7/dist-packages (from requests) (2.10)\n",
            "Requirement already satisfied: certifi>=2017.4.17 in /usr/local/lib/python3.7/dist-packages (from requests) (2022.6.15)\n"
          ]
        }
      ],
      "source": [
        "!pip install cloudscraper\n",
        "!pip install rich\n",
        "!pip install tomd\n",
        "!pip install requests"
      ]
    },
    {
      "cell_type": "markdown",
      "source": [
        "###Initial Imports of the libraries"
      ],
      "metadata": {
        "id": "37uvOTJjJIjv"
      }
    },
    {
      "cell_type": "code",
      "source": [
        "import cloudscraper\n",
        "from datetime import datetime\n",
        "from pathlib import Path\n",
        "from rich.console import Console\n",
        "from rich.progress import track\n",
        "import tenacity\n",
        "import requests,json\n",
        "import tomd"
      ],
      "metadata": {
        "id": "kUyPJgDBJutL"
      },
      "execution_count": 60,
      "outputs": []
    },
    {
      "cell_type": "markdown",
      "source": [
        "### SCraping Blinkist daily for free daily book"
      ],
      "metadata": {
        "id": "F3Do5za6KAkW"
      }
    },
    {
      "cell_type": "code",
      "source": [
        "BASE_URL = 'https://www.blinkist.com/'\n",
        "\n",
        "HEADERS = {\n",
        "    'x-requested-with': 'XMLHttpRequest',\n",
        "}"
      ],
      "metadata": {
        "id": "tvL7D4WHKH3e"
      },
      "execution_count": 61,
      "outputs": []
    },
    {
      "cell_type": "code",
      "source": [
        "CLOUDFLARE_MAX_ATTEMPTS = 10\n",
        "CLOUDFLARE_WAIT_TIME = 2\n",
        "\n",
        "LOCALES = ['en']"
      ],
      "metadata": {
        "id": "UebuUnPDKVq7"
      },
      "execution_count": 62,
      "outputs": []
    },
    {
      "cell_type": "markdown",
      "source": [
        "###creating scraper using cloudscraper"
      ],
      "metadata": {
        "id": "4ucwwdNqUt72"
      }
    },
    {
      "cell_type": "code",
      "source": [
        "console = Console()\n",
        "scraper = cloudscraper.create_scraper()"
      ],
      "metadata": {
        "id": "UQmkzH9LKYzz"
      },
      "execution_count": 63,
      "outputs": []
    },
    {
      "cell_type": "code",
      "source": [
        "'''\n",
        "@tenacity.retry(\n",
        "    retry=tenacity.retry_if_exception_type(cloudscraper.exceptions.CloudflareChallengeError),\n",
        "    wait=tenacity.wait_fixed(CLOUDFLARE_WAIT_TIME),\n",
        "    stop=tenacity.stop_after_attempt(CLOUDFLARE_MAX_ATTEMPTS),\n",
        "    before_sleep=lambda retry_state: console.print(f\"Retrying in {retry_state.next_action.sleep} seconds…\"),\n",
        ")\n",
        "'''"
      ],
      "metadata": {
        "colab": {
          "base_uri": "https://localhost:8080/",
          "height": 0
        },
        "id": "g8un6mDuKbN3",
        "outputId": "6000765a-4178-4207-c853-6751cd946b76"
      },
      "execution_count": 64,
      "outputs": [
        {
          "output_type": "execute_result",
          "data": {
            "text/plain": [
              "'\\n@tenacity.retry(\\n    retry=tenacity.retry_if_exception_type(cloudscraper.exceptions.CloudflareChallengeError),\\n    wait=tenacity.wait_fixed(CLOUDFLARE_WAIT_TIME),\\n    stop=tenacity.stop_after_attempt(CLOUDFLARE_MAX_ATTEMPTS),\\n    before_sleep=lambda retry_state: console.print(f\"Retrying in {retry_state.next_action.sleep} seconds…\"),\\n)\\n'"
            ],
            "application/vnd.google.colaboratory.intrinsic+json": {
              "type": "string"
            }
          },
          "metadata": {},
          "execution_count": 64
        }
      ]
    },
    {
      "cell_type": "code",
      "source": [
        "def _request(url, **kwargs):\n",
        "    \"\"\"\n",
        "    Wrapper for verifying and retrying GET requests.\n",
        "    \"\"\"\n",
        "    kwargs.setdefault('headers', HEADERS)\n",
        "    response = scraper.get(url, **kwargs)\n",
        "    #response = client.get(url, **kwargs)\n",
        "    # handle Cloudflare errors\n",
        "    # We don't check the reponse content here; it could be large binary data and slow things down.\n",
        "    if response.status_code == 403:\n",
        "        # TODO: reset scraper for the next try?\n",
        "        raise cloudscraper.exceptions.CloudflareChallengeError()\n",
        "\n",
        "    response.raise_for_status()  # handle other errors\n",
        "    return response"
      ],
      "metadata": {
        "id": "oesZT4WMKe4n"
      },
      "execution_count": 65,
      "outputs": []
    },
    {
      "cell_type": "code",
      "source": [
        "def _api_request(endpoint, params=None):\n",
        "    \"\"\"\n",
        "    Wrapper for verifying and retrying GET requests to the Blinkist API.\n",
        "    Returns the parsed JSON response.\n",
        "    Calls `_request` internally.\n",
        "    \"\"\"\n",
        "    url = f\"{BASE_URL}api/{endpoint}\"\n",
        "    response = _request(url, params=params, headers=HEADERS)\n",
        "    return response.json()"
      ],
      "metadata": {
        "id": "1NELSXFOKlvC"
      },
      "execution_count": 66,
      "outputs": []
    },
    {
      "cell_type": "code",
      "source": [
        "def get_free_daily(locale):\n",
        "    # see also: https://www.blinkist.com/en/content/daily\n",
        "    return _api_request('free_daily', params={'locale': locale})\n",
        "\n",
        "\n",
        "def get_chapters(book_slug):\n",
        "    \n",
        "    return _api_request(f'books/{book_slug}/chapters')['chapters']\n",
        "\n",
        "\n",
        "def get_chapter(book_id, chapter_id):\n",
        "    #print(_api_request(f'books/{book_id}/chapters/{chapter_id}'))\n",
        "    return _api_request(f'books/{book_id}/chapters/{chapter_id}')"
      ],
      "metadata": {
        "id": "Fl9Gzk78KtA2"
      },
      "execution_count": 67,
      "outputs": []
    },
    {
      "cell_type": "markdown",
      "source": [
        "### Getting Details from the site into variables"
      ],
      "metadata": {
        "id": "-gB3W5-3K01r"
      }
    },
    {
      "cell_type": "code",
      "source": [
        "daily_blink = get_free_daily('en')"
      ],
      "metadata": {
        "id": "8FnWbVS1Kz4I"
      },
      "execution_count": 68,
      "outputs": []
    },
    {
      "cell_type": "markdown",
      "source": [
        "### Details of the book"
      ],
      "metadata": {
        "id": "QsOI8P2rRlgo"
      }
    },
    {
      "cell_type": "code",
      "source": [
        "Book_Author = daily_blink['book']['author']\n",
        "Book_Title = daily_blink['book']['title']\n",
        "Book_Cover = daily_blink['book']['image']['default']['src']\n",
        "Book_Info = f'{Book_Title} by {Book_Author}'\n",
        "Sub_Title = daily_blink['book']['subtitle']\n",
        "about_book = daily_blink['book']['aboutTheBook']\n",
        "synopsis = tomd.convert(about_book.strip())"
      ],
      "metadata": {
        "id": "U9D5rkUuLLPd"
      },
      "execution_count": 69,
      "outputs": []
    },
    {
      "cell_type": "markdown",
      "source": [
        "###Getting Chapter Details from Site #this is take from a github repo"
      ],
      "metadata": {
        "id": "N908W2WYR5Ds"
      }
    },
    {
      "cell_type": "code",
      "source": [
        "for locale in LOCALES:\n",
        "    with console.status(f\"Retrieving free daily in {locale}…\"):\n",
        "        free_daily = get_free_daily(locale=locale)\n",
        "    book = free_daily['book']\n",
        "    console.print(f\"Today's free daily in {locale} is: “{book['title']}”\")\n",
        "\n",
        "    # list of chapters without their content\n",
        "    with console.status(f\"Retrieving chapters of {book['title']}…\"):\n",
        "        chapter_list = get_chapters(book['slug'])\n",
        "\n",
        "    # fetch chapter content\n",
        "    chapters = [get_chapter(book['id'], chapter['id'])\n",
        "                for chapter in track(chapter_list, description='Fetching chapters…')]"
      ],
      "metadata": {
        "colab": {
          "base_uri": "https://localhost:8080/",
          "height": 49,
          "referenced_widgets": [
            "ed05578c602e4903b7e66199674b9d8a",
            "bfae8f3e5d5842beb4dc260714ea12b4",
            "5d78a1179d284f4587de43f382f60700",
            "31f638cc1ffc4249b9dd82d841a3c53b",
            "6b025dedd8a14944af13012e5896596c",
            "ecfaff7f7f4b494e83016acf792e9009"
          ]
        },
        "id": "qRxGdQIJR4DJ",
        "outputId": "3031029f-2a46-4541-a196-06ea6c0f4e83"
      },
      "execution_count": 70,
      "outputs": [
        {
          "output_type": "display_data",
          "data": {
            "text/plain": [
              "Output()"
            ],
            "application/vnd.jupyter.widget-view+json": {
              "version_major": 2,
              "version_minor": 0,
              "model_id": "ed05578c602e4903b7e66199674b9d8a"
            }
          },
          "metadata": {}
        },
        {
          "output_type": "display_data",
          "data": {
            "text/plain": [],
            "text/html": [
              "<pre style=\"white-space:pre;overflow-x:auto;line-height:normal;font-family:Menlo,'DejaVu Sans Mono',consolas,'Courier New',monospace\"></pre>\n"
            ]
          },
          "metadata": {}
        },
        {
          "output_type": "display_data",
          "data": {
            "text/plain": [
              "Today's free daily in en is: “Ultralearning”\n"
            ],
            "text/html": [
              "<pre style=\"white-space:pre;overflow-x:auto;line-height:normal;font-family:Menlo,'DejaVu Sans Mono',consolas,'Courier New',monospace\">Today's free daily in en is: “Ultralearning”\n",
              "</pre>\n"
            ]
          },
          "metadata": {}
        },
        {
          "output_type": "display_data",
          "data": {
            "text/plain": [
              "Output()"
            ],
            "application/vnd.jupyter.widget-view+json": {
              "version_major": 2,
              "version_minor": 0,
              "model_id": "5d78a1179d284f4587de43f382f60700"
            }
          },
          "metadata": {}
        },
        {
          "output_type": "display_data",
          "data": {
            "text/plain": [],
            "text/html": [
              "<pre style=\"white-space:pre;overflow-x:auto;line-height:normal;font-family:Menlo,'DejaVu Sans Mono',consolas,'Courier New',monospace\"></pre>\n"
            ]
          },
          "metadata": {}
        },
        {
          "output_type": "display_data",
          "data": {
            "text/plain": [
              "Output()"
            ],
            "application/vnd.jupyter.widget-view+json": {
              "version_major": 2,
              "version_minor": 0,
              "model_id": "6b025dedd8a14944af13012e5896596c"
            }
          },
          "metadata": {}
        },
        {
          "output_type": "display_data",
          "data": {
            "text/plain": [],
            "text/html": [
              "<pre style=\"white-space:pre;overflow-x:auto;line-height:normal;font-family:Menlo,'DejaVu Sans Mono',consolas,'Courier New',monospace\"></pre>\n"
            ]
          },
          "metadata": {}
        },
        {
          "output_type": "display_data",
          "data": {
            "text/plain": [
              "\n"
            ],
            "text/html": [
              "<pre style=\"white-space:pre;overflow-x:auto;line-height:normal;font-family:Menlo,'DejaVu Sans Mono',consolas,'Courier New',monospace\">\n",
              "</pre>\n"
            ]
          },
          "metadata": {}
        }
      ]
    },
    {
      "cell_type": "markdown",
      "source": [
        "### Converting the Scraped data into Dictionary "
      ],
      "metadata": {
        "id": "iaNJr4jBSW1E"
      }
    },
    {
      "cell_type": "code",
      "source": [
        "free_daily={} #Creating a empty dictionary for the free daily chapter name and article\n",
        "for i in range(len(chapters)):\n",
        "  page_name = str(\"Chapter \" + str(i+1))\n",
        "  page_article = tomd.convert(chapters[i]['text'].strip())\n",
        "  free_daily[page_name]=page_article\n",
        "#created a free_daily dictionary with key as page_name (eg. Chapter 1) and value as page_article which is the Chapter for that page"
      ],
      "metadata": {
        "id": "MfyS5fnXSWbH"
      },
      "execution_count": 71,
      "outputs": []
    },
    {
      "cell_type": "markdown",
      "source": [
        "##Notion Connection\n"
      ],
      "metadata": {
        "id": "Aj2IY8epWTNc"
      }
    },
    {
      "cell_type": "markdown",
      "source": [
        "##notion Body"
      ],
      "metadata": {
        "id": "ym5P41h6Zk-e"
      }
    },
    {
      "cell_type": "code",
      "source": [
        "token = ''  #notion api access token\n",
        "\n",
        "databaseId = ''     #database id \n",
        "\n"
      ],
      "metadata": {
        "id": "SRWw1KXYZdWb"
      },
      "execution_count": 72,
      "outputs": []
    },
    {
      "cell_type": "markdown",
      "source": [
        "### New Notion Page Body Basic Details\n"
      ],
      "metadata": {
        "id": "tvD3dKIuULH4"
      }
    },
    {
      "cell_type": "code",
      "source": [
        "newPageData = {\n",
        "        \"icon\": {\n",
        "                \"type\": \"external\",\n",
        "                \"external\": {\n",
        "                    \"url\": Book_Cover\n",
        "                }\n",
        "            },\n",
        "        \"parent\":{\"database_id\": databaseId},\n",
        "        #database_id is the id of the database where the new page is to be created\n",
        "        #\"parent\": {\"type\":\"database_id\", \"database_id\": databaseId },\n",
        "        \"properties\": {\n",
        "            \"Book Title\": {\n",
        "                    \"title\": [\n",
        "                        {\n",
        "                            \"type\": \"text\",\n",
        "                            \"text\": {\n",
        "                                \"content\": Book_Title,\n",
        "                            },\n",
        "                        }\n",
        "                    ]\n",
        "                },\n",
        "            \"Author\": {\n",
        "                    \"type\": \"select\",\n",
        "                    \"select\": {\n",
        "                        \"name\": Book_Author,\n",
        "                    }\n",
        "                },\n",
        "            \"Sub Title\": {\n",
        "                \"rich_text\": [\n",
        "                    {\n",
        "                        \"text\": {\n",
        "                            \"content\": Sub_Title,\n",
        "                        }\n",
        "                    }\n",
        "                ]           },\n",
        "            \"Synopsis\": {\n",
        "                \"rich_text\": [\n",
        "                    {\n",
        "                        \"text\": {\n",
        "                            \"content\": synopsis,\n",
        "                        }\n",
        "                    }\n",
        "                ]           },\n",
        "            \"Book Cover\": {\n",
        "                    \"type\": \"url\",\n",
        "                    \"url\": Book_Cover,\n",
        "                },\n",
        "        },\n",
        "        \"children\": [\n",
        "                     {\n",
        "\t\t\t\"object\": \"block\",\n",
        "\t\t\t\"type\": \"heading_1\",\n",
        "\t\t\t\"heading_1\": {\n",
        "\t\t\t\t\"rich_text\": [{ \"type\": \"text\", \"text\": { \"content\": Book_Info  } }]\n",
        "\t\t\t}\n",
        "\t\t},\n",
        "    {\n",
        "\t\t\t\"object\": \"block\",\n",
        "\t\t\t\"type\": \"heading_2\",\n",
        "\t\t\t\"heading_2\": {\n",
        "\t\t\t\t\"rich_text\": [{ \"type\": \"text\", \"text\": { \"content\": \"Rajesh Bhavikatti\" } }],\n",
        "      }\n",
        "\t\t},\n",
        "    {\n",
        "  \"type\": \"image\",\n",
        "  \"image\": {\n",
        "    \"type\": \"external\",\n",
        "    \"external\": {\n",
        "        \"url\": Book_Cover\n",
        "    }\n",
        "  }\n",
        "}\n",
        "    ]\n",
        "    }\n"
      ],
      "metadata": {
        "id": "2sXfPwFWUP5W"
      },
      "execution_count": 73,
      "outputs": []
    },
    {
      "cell_type": "markdown",
      "source": [],
      "metadata": {
        "id": "FWWTf1oAVI80"
      }
    },
    {
      "cell_type": "markdown",
      "source": [
        "###creating and Adding children blocks to main new notion page Body"
      ],
      "metadata": {
        "id": "7rmNu4m_VK5I"
      }
    },
    {
      "cell_type": "markdown",
      "source": [
        "Creating child block array to add it to main page "
      ],
      "metadata": {
        "id": "4diucr2oVwBy"
      }
    },
    {
      "cell_type": "code",
      "source": [
        "  page_child_data=[]\n",
        "  for article_name,article in free_daily.items():\n",
        "    page_child_data.append({  \"object\": \"block\",\n",
        "      \"type\": \"heading_1\",'has_children':True,\n",
        "      \"heading_1\": {\n",
        "          \"rich_text\": [{ \"type\": \"text\", \"text\": { \"content\": article_name } }], # heading with chapter name eg Chapter 1\n",
        "          \"children\": [{\n",
        "              \"object\": \"block\",\n",
        "              \"type\": \"paragraph\",\n",
        "              \"paragraph\": {\n",
        "                  \"rich_text\": [{\"type\": \"text\",\n",
        "                                 \"text\": {\"content\": \"\"} }] #Empty 1st block under heading \n",
        "                            }\n",
        "                        }]\n",
        "                    }}\n",
        "        )\n",
        "    for line in article.splitlines():\n",
        "      index = int(article_name[-2:])-1\n",
        "      page_child_data[index]['heading_1']['children'].append({\n",
        "            \"object\": \"block\",\n",
        "            \"type\": \"paragraph\",\n",
        "            \"paragraph\": {\n",
        "                \"rich_text\": [{\n",
        "                    \"type\": \"text\",\n",
        "                    \"text\": {\"content\": line}  #add Line as Child block to heading (eg. Chapter 1)\n",
        "                    }]\n",
        "                    }\n",
        "          })\n",
        "    "
      ],
      "metadata": {
        "id": "Lpnq_KkwVaRX"
      },
      "execution_count": 78,
      "outputs": []
    },
    {
      "cell_type": "markdown",
      "source": [
        "Adding child block to main page block"
      ],
      "metadata": {
        "id": "xu6IXW_RWAXS"
      }
    },
    {
      "cell_type": "code",
      "source": [
        "for i in range(len(page_child_data)):\n",
        "  newPageData['children'].append(page_child_data[i]) "
      ],
      "metadata": {
        "id": "MQassvS1WIwr"
      },
      "execution_count": 75,
      "outputs": []
    },
    {
      "cell_type": "markdown",
      "source": [
        "## notion api connection details and requesting to create a new NOTION page in given database id "
      ],
      "metadata": {
        "id": "LmbVaap0Wfvy"
      }
    },
    {
      "cell_type": "code",
      "source": [
        "\n",
        "headers = {\n",
        "    \"Authorization\": \"Bearer \" + token,\n",
        "    \"Content-Type\": \"application/json\",\n",
        "    \"Notion-Version\": \"2022-02-22\"\n",
        "}\n",
        "createUrl = 'https://api.notion.com/v1/pages'\n",
        "\n",
        "data = json.dumps(newPageData)\n",
        "res = requests.request(\"POST\", createUrl, headers=headers, data=data)\n",
        "\n",
        "print(res.status_code)  # Check Status \n",
        "print(res.text)   # CHeck response"
      ],
      "metadata": {
        "colab": {
          "base_uri": "https://localhost:8080/"
        },
        "id": "BpFNiwhTWcig",
        "outputId": "7b87c619-fa70-49bd-c8e9-bca0133a03c3"
      },
      "execution_count": 76,
      "outputs": [
        {
          "output_type": "stream",
          "name": "stdout",
          "text": [
            "200\n",
            "{\"object\":\"page\",\"id\":\"e8bdf9bd-58ab-48e1-98cd-4ebaf26fe05b\",\"created_time\":\"2022-10-05T18:54:00.000Z\",\"last_edited_time\":\"2022-10-05T18:54:00.000Z\",\"created_by\":{\"object\":\"user\",\"id\":\"216577b3-7744-4dc4-8323-ad43e288e49d\"},\"last_edited_by\":{\"object\":\"user\",\"id\":\"216577b3-7744-4dc4-8323-ad43e288e49d\"},\"cover\":null,\"icon\":{\"type\":\"external\",\"external\":{\"url\":\"https://images.blinkist.io/images/books/5d6c31e76cee0700081a65df/1_1/470.jpg\"}},\"parent\":{\"type\":\"database_id\",\"database_id\":\"c9cd4aaa-1ad9-412e-9233-64f108843be9\"},\"archived\":false,\"properties\":{\"Sub Title\":{\"id\":\"PLvp\",\"type\":\"rich_text\",\"rich_text\":[{\"type\":\"text\",\"text\":{\"content\":\"Accelerate Your Career, Master Hard Tasks and Outsmart the Competition\",\"link\":null},\"annotations\":{\"bold\":false,\"italic\":false,\"strikethrough\":false,\"underline\":false,\"code\":false,\"color\":\"default\"},\"plain_text\":\"Accelerate Your Career, Master Hard Tasks and Outsmart the Competition\",\"href\":null}]},\"Date\":{\"id\":\"Wwz%5C\",\"type\":\"created_time\",\"created_time\":\"2022-10-05T18:54:00.000Z\"},\"Author\":{\"id\":\"YNWy\",\"type\":\"select\",\"select\":{\"id\":\"96134e31-7097-444a-8ef7-7e900530ed4d\",\"name\":\"Scott H. Young\",\"color\":\"purple\"}},\"Synopsis\":{\"id\":\"pnH%5E\",\"type\":\"rich_text\",\"rich_text\":[{\"type\":\"text\",\"text\":{\"content\":\"\\nUltralearners are ordinary people who can master difficult skills with extraordinary speed. As a result, they achieve tremendous personal success and cultivate a serious professional advantage. But how exactly do they pull it off? In **Ultralearning **(2019), Scott H. Young analyzes the aggressive, self-directed learning strategies of some of the world’s most successful ultralearners and breaks them down into techniques and strategies that anyone can implement.\\n\",\"link\":null},\"annotations\":{\"bold\":false,\"italic\":false,\"strikethrough\":false,\"underline\":false,\"code\":false,\"color\":\"default\"},\"plain_text\":\"\\nUltralearners are ordinary people who can master difficult skills with extraordinary speed. As a result, they achieve tremendous personal success and cultivate a serious professional advantage. But how exactly do they pull it off? In **Ultralearning **(2019), Scott H. Young analyzes the aggressive, self-directed learning strategies of some of the world’s most successful ultralearners and breaks them down into techniques and strategies that anyone can implement.\\n\",\"href\":null}]},\"Book Cover\":{\"id\":\"zX%7Be\",\"type\":\"url\",\"url\":\"https://images.blinkist.io/images/books/5d6c31e76cee0700081a65df/1_1/470.jpg\"},\"Book Title\":{\"id\":\"title\",\"type\":\"title\",\"title\":[{\"type\":\"text\",\"text\":{\"content\":\"Ultralearning\",\"link\":null},\"annotations\":{\"bold\":false,\"italic\":false,\"strikethrough\":false,\"underline\":false,\"code\":false,\"color\":\"default\"},\"plain_text\":\"Ultralearning\",\"href\":null}]}},\"url\":\"https://www.notion.so/Ultralearning-e8bdf9bd58ab48e198cd4ebaf26fe05b\"}\n"
          ]
        }
      ]
    }
  ]
}